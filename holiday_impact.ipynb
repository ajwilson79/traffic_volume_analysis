{
 "cells": [
  {
   "cell_type": "code",
   "execution_count": 1,
   "metadata": {},
   "outputs": [],
   "source": [
    "# Import the required libraries and dependencies\n",
    "import pandas as pd\n",
    "import datetime as dt"
   ]
  },
  {
   "cell_type": "code",
   "execution_count": 2,
   "metadata": {},
   "outputs": [],
   "source": [
    "# Create path to CSV file\n",
    "csv_path = \"Metro_Interstate_Traffic_Volume.csv\"\n",
    "# Import the CSV into a pandas DataFrame\n",
    "df = pd.read_csv(csv_path)"
   ]
  },
  {
   "cell_type": "code",
   "execution_count": 3,
   "metadata": {},
   "outputs": [],
   "source": [
    "# Convert 'date_time' column to datetime data type\n",
    "# and reset index\n",
    "df['date_time'] = pd.to_datetime(df['date_time'])\n",
    "df.set_index('date_time', inplace=True)\n",
    "df.sort_index(inplace=True)"
   ]
  },
  {
   "cell_type": "code",
   "execution_count": null,
   "metadata": {},
   "outputs": [],
   "source": [
    "#The 'date_time' column entry is the top of the hour for each row.  Holidays\n",
    "#are denoted in the 'holiday' column, but are only noted for the first hour of that day\n",
    "#at 00:00:00 (midnight), and the rest of the rows say \"None\" for that day, despite taking\n",
    "#place during the holiday\n",
    "\n",
    "# Forward fill the holiday column to propagate the holiday information for all hours of the day\n",
    "df['holiday'] = df.groupby(df.index.date)['holiday'].fillna(method='ffill')\n"
   ]
  },
  {
   "cell_type": "code",
   "execution_count": 5,
   "metadata": {},
   "outputs": [
    {
     "name": "stderr",
     "output_type": "stream",
     "text": [
      "C:\\Users\\Matt\\AppData\\Local\\Temp\\ipykernel_10328\\3017105560.py:2: FutureWarning: SeriesGroupBy.fillna is deprecated and will be removed in a future version. Use obj.ffill() or obj.bfill() for forward or backward filling instead. If you want to fill with a single value, use Series.fillna instead\n",
      "  df['holiday'] = df.groupby(df.index.date)['holiday'].fillna(method='ffill')\n",
      "C:\\Users\\Matt\\AppData\\Local\\Temp\\ipykernel_10328\\3017105560.py:2: FutureWarning: Series.fillna with 'method' is deprecated and will raise in a future version. Use obj.ffill() or obj.bfill() instead.\n",
      "  df['holiday'] = df.groupby(df.index.date)['holiday'].fillna(method='ffill')\n",
      "C:\\Users\\Matt\\AppData\\Local\\Temp\\ipykernel_10328\\3017105560.py:2: FutureWarning: Downcasting object dtype arrays on .fillna, .ffill, .bfill is deprecated and will change in a future version. Call result.infer_objects(copy=False) instead. To opt-in to the future behavior, set `pd.set_option('future.no_silent_downcasting', True)`\n",
      "  df['holiday'] = df.groupby(df.index.date)['holiday'].fillna(method='ffill')\n"
     ]
    },
    {
     "name": "stdout",
     "output_type": "stream",
     "text": [
      "year  holiday                  \n",
      "2012  Christmas Day                1603.280000\n",
      "      Columbus Day                 3422.291667\n",
      "      Thanksgiving Day             1974.416667\n",
      "      Veterans Day                 2963.440000\n",
      "2013  Christmas Day                1527.625000\n",
      "      Columbus Day                 3369.153846\n",
      "      Independence Day             2098.166667\n",
      "      Labor Day                    2438.045455\n",
      "      Memorial Day                 1966.958333\n",
      "      New Years Day                1659.041667\n",
      "      State Fair                   3865.291667\n",
      "      Thanksgiving Day             2097.173913\n",
      "      Veterans Day                 3211.086957\n",
      "      Washingtons Birthday         3117.041667\n",
      "2014  Martin Luther King Jr Day    2793.130435\n",
      "      Memorial Day                 2097.833333\n",
      "      New Years Day                1637.454545\n",
      "      Washingtons Birthday         2471.875000\n",
      "2015  Christmas Day                1559.250000\n",
      "      Columbus Day                 3747.035714\n",
      "      Independence Day             2681.916667\n",
      "      Labor Day                    2430.291667\n",
      "      State Fair                   3843.625000\n",
      "      Thanksgiving Day             2016.636364\n",
      "      Veterans Day                 2993.500000\n",
      "2016  Christmas Day                2197.111111\n",
      "      Columbus Day                 3237.782609\n",
      "      Independence Day             1944.916667\n",
      "      Labor Day                    1868.350000\n",
      "      Memorial Day                 1858.968750\n",
      "      New Years Day                1815.210526\n",
      "      State Fair                   3612.000000\n",
      "      Thanksgiving Day             2219.190476\n",
      "      Veterans Day                 3442.166667\n",
      "      Washingtons Birthday         3098.826087\n",
      "2017  Christmas Day                1790.925926\n",
      "      Columbus Day                 3496.625000\n",
      "      Independence Day             2133.541667\n",
      "      Labor Day                    2525.678571\n",
      "      Martin Luther King Jr Day    2790.100000\n",
      "      Memorial Day                 2282.230769\n",
      "      New Years Day                2376.380952\n",
      "      State Fair                   3863.280000\n",
      "      Thanksgiving Day             2052.958333\n",
      "      Veterans Day                 3706.916667\n",
      "      Washingtons Birthday         3103.416667\n",
      "2018  Independence Day             2059.933333\n",
      "      Labor Day                    2029.069767\n",
      "      Martin Luther King Jr Day    2596.409091\n",
      "      Memorial Day                 2253.464286\n",
      "      New Years Day                1749.333333\n",
      "      State Fair                   3978.086957\n",
      "      Washingtons Birthday         2672.317073\n",
      "Name: traffic_volume, dtype: float64\n"
     ]
    }
   ],
   "source": [
    "\n",
    "\n",
    "# Extract year from the datetime index and add 'year' column\n",
    "df['year'] = df.index.year\n",
    "\n",
    "# Group the data by year and holiday, and calculate the average traffic volume\n",
    "average_holiday_volume = df.groupby(['year', 'holiday'])['traffic_volume'].mean()\n",
    "\n",
    "# Display the result\n",
    "print(average_holiday_volume)\n",
    "\n",
    "# Export the DataFrame to a CSV file\n",
    "df.to_csv('average_holiday_volume.csv')\n"
   ]
  },
  {
   "cell_type": "code",
   "execution_count": null,
   "metadata": {},
   "outputs": [],
   "source": [
    "df.head()"
   ]
  },
  {
   "cell_type": "code",
   "execution_count": null,
   "metadata": {},
   "outputs": [],
   "source": []
  }
 ],
 "metadata": {
  "kernelspec": {
   "display_name": "aib_dev",
   "language": "python",
   "name": "python3"
  },
  "language_info": {
   "codemirror_mode": {
    "name": "ipython",
    "version": 3
   },
   "file_extension": ".py",
   "mimetype": "text/x-python",
   "name": "python",
   "nbconvert_exporter": "python",
   "pygments_lexer": "ipython3",
   "version": "3.10.13"
  }
 },
 "nbformat": 4,
 "nbformat_minor": 2
}
