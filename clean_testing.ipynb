{
 "cells": [
  {
   "cell_type": "code",
   "execution_count": 1,
   "metadata": {},
   "outputs": [],
   "source": [
    "# Import the required libraries and dependencies\n",
    "import pandas as pd\n",
    "import datetime as dt\n",
    "from prophet import Prophet\n",
    "from clean_data import clean_data\n"
   ]
  },
  {
   "cell_type": "code",
   "execution_count": 2,
   "metadata": {},
   "outputs": [],
   "source": [
    "# Create path to CSV file\n",
    "csv_path = \"Metro_Interstate_Traffic_Volume.csv\"\n",
    "# Import the CSV into a pandas DataFrame\n",
    "df = pd.read_csv(csv_path)\n",
    "# Run imported DataFrame through clean_data function\n",
    "clean_df = clean_data(df)"
   ]
  },
  {
   "cell_type": "code",
   "execution_count": null,
   "metadata": {},
   "outputs": [],
   "source": [
    "sorted_df = clean_df.sort_values(by='date_time', ascending=True)\n",
    "sorted_df.head(60)\n"
   ]
  },
  {
   "cell_type": "code",
   "execution_count": 4,
   "metadata": {},
   "outputs": [
    {
     "name": "stderr",
     "output_type": "stream",
     "text": [
      "C:\\Users\\Matt\\AppData\\Local\\Temp\\ipykernel_12868\\2311151761.py:5: FutureWarning: 'H' is deprecated and will be removed in a future version, please use 'h' instead.\n",
      "  expected_dates = pd.date_range(start=start_date, end=end_date, freq='H')\n"
     ]
    }
   ],
   "source": [
    "def identify_gaps(df, output_file):\n",
    "    # Define the expected range of hourly datetimes\n",
    "    start_date = pd.to_datetime('2012-10-02 09:00:00')\n",
    "    end_date = pd.to_datetime('2018-09-30 23:00:00')\n",
    "    expected_dates = pd.date_range(start=start_date, end=end_date, freq='H')\n",
    "\n",
    "    # Extract the actual datetimes from the DataFrame\n",
    "    actual_dates = df.index\n",
    "\n",
    "    # Identify missing datetimes\n",
    "    missing_dates = expected_dates[~expected_dates.isin(actual_dates)]\n",
    "\n",
    "    # Export missing datetimes to a CSV file\n",
    "    missing_dates.to_frame(name='missing_datetime').to_csv(output_file, index=False)\n",
    "\n",
    "# Assuming 'df' is your DataFrame\n",
    "output_file = 'missing_datetimes.csv'\n",
    "identify_gaps(clean_df, output_file)"
   ]
  },
  {
   "cell_type": "code",
   "execution_count": null,
   "metadata": {},
   "outputs": [],
   "source": [
    "len(clean_df)"
   ]
  },
  {
   "cell_type": "code",
   "execution_count": null,
   "metadata": {},
   "outputs": [],
   "source": [
    "holiday_rows = df['is_holiday']"
   ]
  },
  {
   "cell_type": "code",
   "execution_count": null,
   "metadata": {},
   "outputs": [],
   "source": [
    "df['holiday'].unique()"
   ]
  }
 ],
 "metadata": {
  "kernelspec": {
   "display_name": "aib_dev",
   "language": "python",
   "name": "python3"
  },
  "language_info": {
   "codemirror_mode": {
    "name": "ipython",
    "version": 3
   },
   "file_extension": ".py",
   "mimetype": "text/x-python",
   "name": "python",
   "nbconvert_exporter": "python",
   "pygments_lexer": "ipython3",
   "version": "3.10.13"
  }
 },
 "nbformat": 4,
 "nbformat_minor": 2
}
