{
 "cells": [
  {
   "cell_type": "code",
   "execution_count": 1,
   "metadata": {},
   "outputs": [],
   "source": [
    "# Import the required libraries and dependencies\n",
    "import pandas as pd\n",
    "import datetime as dt"
   ]
  },
  {
   "cell_type": "code",
   "execution_count": 2,
   "metadata": {},
   "outputs": [],
   "source": [
    "# Create path to CSV file\n",
    "csv_path = \"Metro_Interstate_Traffic_Volume.csv\"\n",
    "# Import the CSV into a pandas DataFrame\n",
    "df = pd.read_csv(csv_path)"
   ]
  },
  {
   "cell_type": "code",
   "execution_count": 3,
   "metadata": {},
   "outputs": [],
   "source": [
    "# Convert 'date_time' column to datetime data type\n",
    "# and reset index\n",
    "df['date_time'] = pd.to_datetime(df['date_time'])\n",
    "df.set_index('date_time', inplace=True)\n",
    "df.sort_index(inplace=True)"
   ]
  },
  {
   "cell_type": "code",
   "execution_count": 12,
   "metadata": {},
   "outputs": [
    {
     "data": {
      "text/html": [
       "<div>\n",
       "<style scoped>\n",
       "    .dataframe tbody tr th:only-of-type {\n",
       "        vertical-align: middle;\n",
       "    }\n",
       "\n",
       "    .dataframe tbody tr th {\n",
       "        vertical-align: top;\n",
       "    }\n",
       "\n",
       "    .dataframe thead th {\n",
       "        text-align: right;\n",
       "    }\n",
       "</style>\n",
       "<table border=\"1\" class=\"dataframe\">\n",
       "  <thead>\n",
       "    <tr style=\"text-align: right;\">\n",
       "      <th></th>\n",
       "      <th>holiday</th>\n",
       "      <th>temp</th>\n",
       "      <th>rain_1h</th>\n",
       "      <th>snow_1h</th>\n",
       "      <th>clouds_all</th>\n",
       "      <th>weather_main</th>\n",
       "      <th>weather_description</th>\n",
       "      <th>traffic_volume</th>\n",
       "      <th>year</th>\n",
       "    </tr>\n",
       "    <tr>\n",
       "      <th>date_time</th>\n",
       "      <th></th>\n",
       "      <th></th>\n",
       "      <th></th>\n",
       "      <th></th>\n",
       "      <th></th>\n",
       "      <th></th>\n",
       "      <th></th>\n",
       "      <th></th>\n",
       "      <th></th>\n",
       "    </tr>\n",
       "  </thead>\n",
       "  <tbody>\n",
       "    <tr>\n",
       "      <th>2012-10-02 09:00:00</th>\n",
       "      <td>NaN</td>\n",
       "      <td>288.28</td>\n",
       "      <td>0.0</td>\n",
       "      <td>0.0</td>\n",
       "      <td>40</td>\n",
       "      <td>Clouds</td>\n",
       "      <td>scattered clouds</td>\n",
       "      <td>5545</td>\n",
       "      <td>2012</td>\n",
       "    </tr>\n",
       "    <tr>\n",
       "      <th>2012-10-02 10:00:00</th>\n",
       "      <td>NaN</td>\n",
       "      <td>289.36</td>\n",
       "      <td>0.0</td>\n",
       "      <td>0.0</td>\n",
       "      <td>75</td>\n",
       "      <td>Clouds</td>\n",
       "      <td>broken clouds</td>\n",
       "      <td>4516</td>\n",
       "      <td>2012</td>\n",
       "    </tr>\n",
       "    <tr>\n",
       "      <th>2012-10-02 11:00:00</th>\n",
       "      <td>NaN</td>\n",
       "      <td>289.58</td>\n",
       "      <td>0.0</td>\n",
       "      <td>0.0</td>\n",
       "      <td>90</td>\n",
       "      <td>Clouds</td>\n",
       "      <td>overcast clouds</td>\n",
       "      <td>4767</td>\n",
       "      <td>2012</td>\n",
       "    </tr>\n",
       "    <tr>\n",
       "      <th>2012-10-02 12:00:00</th>\n",
       "      <td>NaN</td>\n",
       "      <td>290.13</td>\n",
       "      <td>0.0</td>\n",
       "      <td>0.0</td>\n",
       "      <td>90</td>\n",
       "      <td>Clouds</td>\n",
       "      <td>overcast clouds</td>\n",
       "      <td>5026</td>\n",
       "      <td>2012</td>\n",
       "    </tr>\n",
       "    <tr>\n",
       "      <th>2012-10-02 13:00:00</th>\n",
       "      <td>NaN</td>\n",
       "      <td>291.14</td>\n",
       "      <td>0.0</td>\n",
       "      <td>0.0</td>\n",
       "      <td>75</td>\n",
       "      <td>Clouds</td>\n",
       "      <td>broken clouds</td>\n",
       "      <td>4918</td>\n",
       "      <td>2012</td>\n",
       "    </tr>\n",
       "  </tbody>\n",
       "</table>\n",
       "</div>"
      ],
      "text/plain": [
       "                    holiday    temp  rain_1h  snow_1h  clouds_all  \\\n",
       "date_time                                                           \n",
       "2012-10-02 09:00:00     NaN  288.28      0.0      0.0          40   \n",
       "2012-10-02 10:00:00     NaN  289.36      0.0      0.0          75   \n",
       "2012-10-02 11:00:00     NaN  289.58      0.0      0.0          90   \n",
       "2012-10-02 12:00:00     NaN  290.13      0.0      0.0          90   \n",
       "2012-10-02 13:00:00     NaN  291.14      0.0      0.0          75   \n",
       "\n",
       "                    weather_main weather_description  traffic_volume  year  \n",
       "date_time                                                                   \n",
       "2012-10-02 09:00:00       Clouds    scattered clouds            5545  2012  \n",
       "2012-10-02 10:00:00       Clouds       broken clouds            4516  2012  \n",
       "2012-10-02 11:00:00       Clouds     overcast clouds            4767  2012  \n",
       "2012-10-02 12:00:00       Clouds     overcast clouds            5026  2012  \n",
       "2012-10-02 13:00:00       Clouds       broken clouds            4918  2012  "
      ]
     },
     "execution_count": 12,
     "metadata": {},
     "output_type": "execute_result"
    }
   ],
   "source": [
    "df.head()"
   ]
  },
  {
   "cell_type": "code",
   "execution_count": 4,
   "metadata": {},
   "outputs": [],
   "source": [
    "#The 'date_time' column entry is the top of the hour for each row.  Holidays\n",
    "#are denoted in the 'holiday' column, but are only noted for the first hour of that day\n",
    "#at 00:00:00 (midnight), and the rest of the rows say \"None\" for that day, despite taking\n",
    "#place during the holiday\n",
    "\n",
    "# Forward fill the holiday column to propagate the holiday information for all hours of the day\n",
    "df['holiday'] = df.groupby(df.index.date)['holiday'].ffill()\n"
   ]
  },
  {
   "cell_type": "code",
   "execution_count": 5,
   "metadata": {},
   "outputs": [],
   "source": [
    "# Extract year from the datetime index and add 'year' column\n",
    "df['year'] = df.index.year\n",
    "\n",
    "# Group the data by year and holiday, and calculate the average traffic volume\n",
    "average_holiday_volume_by_year = df.groupby(['year', 'holiday'])['traffic_volume'].mean()\n"
   ]
  },
  {
   "cell_type": "code",
   "execution_count": 6,
   "metadata": {},
   "outputs": [
    {
     "data": {
      "text/plain": [
       "year  holiday                  \n",
       "2012  Christmas Day                1603.280000\n",
       "      Columbus Day                 3422.291667\n",
       "      Thanksgiving Day             1974.416667\n",
       "      Veterans Day                 2963.440000\n",
       "2013  Christmas Day                1527.625000\n",
       "      Columbus Day                 3369.153846\n",
       "      Independence Day             2098.166667\n",
       "      Labor Day                    2438.045455\n",
       "      Memorial Day                 1966.958333\n",
       "      New Years Day                1659.041667\n",
       "      State Fair                   3865.291667\n",
       "      Thanksgiving Day             2097.173913\n",
       "      Veterans Day                 3211.086957\n",
       "      Washingtons Birthday         3117.041667\n",
       "2014  Martin Luther King Jr Day    2793.130435\n",
       "      Memorial Day                 2097.833333\n",
       "      New Years Day                1637.454545\n",
       "      Washingtons Birthday         2471.875000\n",
       "2015  Christmas Day                1559.250000\n",
       "      Columbus Day                 3747.035714\n",
       "      Independence Day             2681.916667\n",
       "      Labor Day                    2430.291667\n",
       "      State Fair                   3843.625000\n",
       "      Thanksgiving Day             2016.636364\n",
       "      Veterans Day                 2993.500000\n",
       "2016  Christmas Day                2197.111111\n",
       "      Columbus Day                 3237.782609\n",
       "      Independence Day             1944.916667\n",
       "      Labor Day                    1868.350000\n",
       "      Memorial Day                 1858.968750\n",
       "      New Years Day                1815.210526\n",
       "      State Fair                   3612.000000\n",
       "      Thanksgiving Day             2219.190476\n",
       "      Veterans Day                 3442.166667\n",
       "      Washingtons Birthday         3098.826087\n",
       "2017  Christmas Day                1790.925926\n",
       "      Columbus Day                 3496.625000\n",
       "      Independence Day             2133.541667\n",
       "      Labor Day                    2525.678571\n",
       "      Martin Luther King Jr Day    2790.100000\n",
       "      Memorial Day                 2282.230769\n",
       "      New Years Day                2376.380952\n",
       "      State Fair                   3863.280000\n",
       "      Thanksgiving Day             2052.958333\n",
       "      Veterans Day                 3706.916667\n",
       "      Washingtons Birthday         3103.416667\n",
       "2018  Independence Day             2059.933333\n",
       "      Labor Day                    2029.069767\n",
       "      Martin Luther King Jr Day    2596.409091\n",
       "      Memorial Day                 2253.464286\n",
       "      New Years Day                1749.333333\n",
       "      State Fair                   3978.086957\n",
       "      Washingtons Birthday         2672.317073\n",
       "Name: traffic_volume, dtype: float64"
      ]
     },
     "execution_count": 6,
     "metadata": {},
     "output_type": "execute_result"
    }
   ],
   "source": [
    "average_holiday_volume_by_year"
   ]
  },
  {
   "cell_type": "code",
   "execution_count": 8,
   "metadata": {},
   "outputs": [
    {
     "name": "stdout",
     "output_type": "stream",
     "text": [
      "holiday\n",
      "Christmas Day                1735.638407\n",
      "Columbus Day                 3454.577767\n",
      "Independence Day             2183.695000\n",
      "Labor Day                    2258.287092\n",
      "Martin Luther King Jr Day    2726.546509\n",
      "Memorial Day                 2091.891094\n",
      "New Years Day                1847.484205\n",
      "State Fair                   3832.456725\n",
      "Thanksgiving Day             2072.075151\n",
      "Veterans Day                 3263.422058\n",
      "Washingtons Birthday         2892.695299\n",
      "Name: traffic_volume, dtype: float64\n"
     ]
    }
   ],
   "source": [
    "# Group the data by holiday and calculate the overall average traffic volume for each holiday\n",
    "overall_holiday_average = average_holiday_volume_by_year.groupby('holiday').mean()\n",
    "\n",
    "# Display the result\n",
    "print(overall_holiday_average)"
   ]
  },
  {
   "cell_type": "code",
   "execution_count": 10,
   "metadata": {},
   "outputs": [
    {
     "data": {
      "text/plain": [
       "<Axes: xlabel='Holiday', ylabel='Average Traffic Volume'>"
      ]
     },
     "execution_count": 10,
     "metadata": {},
     "output_type": "execute_result"
    },
    {
     "data": {
      "image/png": "[encoded data removed]",
      "text/plain": [
       "<Figure size 1000x600 with 1 Axes>"
      ]
     },
     "metadata": {},
     "output_type": "display_data"
    }
   ],
   "source": [
    "overall_holiday_average.plot(kind='bar', figsize=(10, 6), ylabel='Average Traffic Volume', xlabel='Holiday')\n"
   ]
  },
  {
   "cell_type": "code",
   "execution_count": null,
   "metadata": {},
   "outputs": [],
   "source": []
  }
 ],
 "metadata": {
  "kernelspec": {
   "display_name": "aib_dev",
   "language": "python",
   "name": "python3"
  },
  "language_info": {
   "codemirror_mode": {
    "name": "ipython",
    "version": 3
   },
   "file_extension": ".py",
   "mimetype": "text/x-python",
   "name": "python",
   "nbconvert_exporter": "python",
   "pygments_lexer": "ipython3",
   "version": "3.10.13"
  }
 },
 "nbformat": 4,
 "nbformat_minor": 2
}
